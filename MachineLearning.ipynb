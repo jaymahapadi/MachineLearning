{
  "nbformat": 4,
  "nbformat_minor": 0,
  "metadata": {
    "colab": {
      "provenance": []
    },
    "kernelspec": {
      "name": "python3",
      "display_name": "Python 3"
    },
    "language_info": {
      "name": "python"
    }
  },
  "cells": [
    {
      "cell_type": "code",
      "execution_count": null,
      "metadata": {
        "id": "UXfq_KZAodK0"
      },
      "outputs": [],
      "source": []
    },
    {
      "cell_type": "markdown",
      "source": [
        "Question 1: Explain the differences between AI, ML, Deep Learning (DL), and Data Science (DS).\n",
        "  - Artificial Intelligence (AI), Machine Learning (ML), Deep Learning (DL), and Data Science (DS) are related but distinct fields within the data and intelligent systems.\n",
        "  - Artificial Intelligence (AI) systems that can perform tasks requiring human intelligence\n",
        "  - Machine Learning (ML) is subset of AI focuses on developing algorithms enabling systems to learn from data\n",
        "  - Deep Learning (DL) is a specialized subset of Machine Learning that utilizes artificial neural networks with multiple layers\n",
        "  - Data Science (DS) uses scientific methods, processes, algorithms, and systems to extract knowledge and insights from data\n",
        "\n",
        "Question 2: What are the types of machine learning? Describe each with one real-world example.\n",
        "  - types of machine learning are Supervised Learning, Unsupervised Learning, and Reinforcement Learning\n",
        "  - Supervised Learning input data is paired with the correct output\n",
        "  - Unsupervised Learning algorithm works with unlabeled data to find hidden patterns, structures, and relationships\n",
        "  - Reinforcement learning involves an agent that learns to make a sequence of decisions by interacting with an environment\n",
        "\n",
        "Question 3: Define overfitting, underfitting, and the bias-variance tradeoff in machine learning.\n",
        "  - Overfitting occurs when a model is too complex and learns the noise in the training data, leading to poor performance on new data.\n",
        "  - Underfitting happens when a model is too simple and cannot capture the underlying patterns in the training data.\n",
        "  - The bias-variance tradeoff is the balance between high bias (underfitting) and high variance (overfitting), where reducing one often increases the other\n",
        "\n",
        "Question 4: What are outliers in a dataset, and list three common techniques for handling them.\n",
        "  - Outliers are values that are unusually high or low compared to the rest of the observations\n",
        "  - Remove outlier\n",
        "  - Replace with median or mode\n",
        " - Replace with nearest value which is not outlier\n",
        "\n",
        "\n",
        "Question 5: Explain the process of handling missing values and mention one imputation technique for numerical and one for categorical data.\n",
        "  - Handling missing values is a crucial step in data preprocessing to ensure data quality and the reliability of subsequent analyses or models\n",
        "  - Imputation Technique for Numerical Data: Mean/Median Imputation\n",
        "  - Mean or median imputation involves replacing missing numerical values with the mean or median of the observed values in that specific column.\n",
        "\n"
      ],
      "metadata": {
        "id": "KUp52M2Woia6"
      }
    },
    {
      "cell_type": "code",
      "source": [
        "# Question 6: Write a Python program that:\n",
        "#● Creates a synthetic imbalanced dataset with make_classification() from sklearn.datasets.\n",
        "#● Prints the class distribution.\n",
        "#(Include your Python code and output in the code box below.)\n",
        "from collections import Counter\n",
        "from sklearn.datasets import make_classification\n",
        "\n",
        "\n",
        "X, y = make_classification(n_samples=1000, n_features=2, n_informative=2,\n",
        "                           n_redundant=0, n_classes=2, weights=[0.9, 0.1],\n",
        "                           random_state=42)\n",
        "\n",
        "class_distribution = Counter(y)\n",
        "\n",
        "print(\"Class distribution of the synthetic dataset:\")\n",
        "for class_label, count in class_distribution.items():\n",
        "    print(f\"Class {class_label}: {count} samples\")\n",
        "\n",
        "print(f\"\\nTotal samples: {len(y)}\")"
      ],
      "metadata": {
        "colab": {
          "base_uri": "https://localhost:8080/"
        },
        "id": "SCUCjt8Go6Rs",
        "outputId": "724a1ea9-a81a-44e7-b4fb-1728ffdd421e"
      },
      "execution_count": 1,
      "outputs": [
        {
          "output_type": "stream",
          "name": "stdout",
          "text": [
            "Class distribution of the synthetic dataset:\n",
            "Class 0: 894 samples\n",
            "Class 1: 106 samples\n",
            "\n",
            "Total samples: 1000\n"
          ]
        }
      ]
    },
    {
      "cell_type": "code",
      "source": [
        "#Question 7: Implement one-hot encoding using pandas for the following list of colors: ['Red', 'Green', 'Blue', 'Green', 'Red'].\n",
        "# Print the resulting dataframe. (Include your Python code and output in the code box below.)\n",
        "import pandas as pd\n",
        "\n",
        "# List of colors\n",
        "colors = ['Red', 'Green', 'Blue', 'Green', 'Red']\n",
        "\n",
        "# Create a pandas Series from the list of colors\n",
        "color_series = pd.Series(colors)\n",
        "\n",
        "# Apply one-hot encoding using pd.get_dummies()\n",
        "one_hot_encoded_df = pd.get_dummies(color_series)\n",
        "\n",
        "# Print the resulting DataFrame\n",
        "print(one_hot_encoded_df)"
      ],
      "metadata": {
        "colab": {
          "base_uri": "https://localhost:8080/"
        },
        "id": "dHRcjdZMo-33",
        "outputId": "a3219828-9757-4f9b-e8a2-8c703f5f9a81"
      },
      "execution_count": 2,
      "outputs": [
        {
          "output_type": "stream",
          "name": "stdout",
          "text": [
            "    Blue  Green    Red\n",
            "0  False  False   True\n",
            "1  False   True  False\n",
            "2   True  False  False\n",
            "3  False   True  False\n",
            "4  False  False   True\n"
          ]
        }
      ]
    },
    {
      "cell_type": "code",
      "source": [
        "#Question 8: Write a Python script to:\n",
        "#● Generate 1000 samples from a normal distribution.\n",
        "#● Introduce 50 random missing values.\n",
        "#● Fill missing values with the column mean.\n",
        "#● Plot a histogram before and after imputation.\n",
        "#(Include your Python code and output in the code box below.)\n",
        "import numpy as np\n",
        "import pandas as pd\n",
        "import matplotlib.pyplot as plt\n",
        "\n",
        "# 1. Generate 1000 samples from a normal distribution\n",
        "np.random.seed(42) # for reproducibility\n",
        "data = np.random.normal(loc=0, scale=1, size=1000)\n",
        "df = pd.DataFrame({'values': data})\n",
        "\n",
        "# 2. Introduce 50 random missing values\n",
        "missing_indices = np.random.choice(df.index, size=50, replace=False)\n",
        "df.loc[missing_indices, 'values'] = np.nan\n",
        "\n",
        "# 3. Plot a histogram before imputation\n",
        "plt.figure(figsize=(12, 5))\n",
        "plt.subplot(1, 2, 1)\n",
        "plt.hist(df['values'].dropna(), bins=30, edgecolor='black')\n",
        "plt.title('Histogram Before Imputation (Missing Values Removed for Plotting)')\n",
        "\n",
        "# 4. Fill missing values with the column mean\n",
        "mean_value = df['values'].mean()\n",
        "df_imputed = df.fillna(mean_value)\n",
        "\n",
        "# 5. Plot a histogram after imputation\n",
        "plt.subplot(1, 2, 2)\n",
        "plt.hist(df_imputed['values'], bins=30, edgecolor='black')\n",
        "plt.title('Histogram After Mean Imputation')\n",
        "\n",
        "plt.tight_layout()\n",
        "plt.show()"
      ],
      "metadata": {
        "colab": {
          "base_uri": "https://localhost:8080/",
          "height": 1000
        },
        "id": "jjUYfFuepHal",
        "outputId": "cfe84ec6-9d73-42b2-ff7f-95a86f8167e0"
      },
      "execution_count": 3,
      "outputs": [
        {
          "output_type": "display_data",
          "data": {
            "text/plain": [
              "<Figure size 1200x500 with 2 Axes>"
            ],
            "image/png": "[encoded data removed]"
          },
          "metadata": {}
        }
      ]
    },
    {
      "cell_type": "code",
      "source": [
        "#Question 9: Implement Min-Max scaling on the following list of numbers [2, 5, 10, 15, 20] using sklearn.preprocessing.MinMaxScaler. Print the scaled array.\n",
        "#(Include your Python code and output in the code box below.)\n",
        "import numpy as np\n",
        "from sklearn.preprocessing import MinMaxScaler\n",
        "\n",
        "# The input list of numbers\n",
        "data = [2, 5, 10, 15, 20]\n",
        "\n",
        "# Reshape the data to a 2D array as required by MinMaxScaler\n",
        "# The -1 infers the dimension, and 1 specifies a single feature\n",
        "data_reshaped = np.array(data).reshape(-1, 1)\n",
        "\n",
        "# Initialize the MinMaxScaler\n",
        "scaler = MinMaxScaler()\n",
        "\n",
        "# Fit the scaler to the data and transform it\n",
        "scaled_data = scaler.fit_transform(data_reshaped)\n",
        "\n",
        "# Print the scaled array\n",
        "print(scaled_data)"
      ],
      "metadata": {
        "colab": {
          "base_uri": "https://localhost:8080/"
        },
        "id": "1JLVrzlqpOgo",
        "outputId": "71977b6c-8c20-44e5-efe8-f1bd57ef81d8"
      },
      "execution_count": 4,
      "outputs": [
        {
          "output_type": "stream",
          "name": "stdout",
          "text": [
            "[[0.        ]\n",
            " [0.16666667]\n",
            " [0.44444444]\n",
            " [0.72222222]\n",
            " [1.        ]]\n"
          ]
        }
      ]
    },
    {
      "cell_type": "markdown",
      "source": [
        "Question 10: You are working as a data scientist for a retail company. You receive a customer transaction dataset that contains:\n",
        "● Missing ages,\n",
        "● Outliers in transaction amount,\n",
        "● A highly imbalanced target (fraud vs. non-fraud),\n",
        "● Categorical variables like payment method.\n",
        "Explain the step-by-step data preparation plan you’d follow before training a machine learning model. Include how you’d address missing data, outliers, imbalance, and encoding.\n",
        "(Include your Python code and output in the code box below.)\n",
        "  - Missing ages can be\n",
        "  - Outliers in transactions will be replaced using nearest value which is not outlier\n",
        "  - Highly imbalanced target will be replaced using SMOTE - synthetically increasing size of dataset with less data\n",
        "  - Catrgorical variables are encoded using values"
      ],
      "metadata": {
        "id": "LewqtT3Gs4dR"
      }
    }
  ]
}